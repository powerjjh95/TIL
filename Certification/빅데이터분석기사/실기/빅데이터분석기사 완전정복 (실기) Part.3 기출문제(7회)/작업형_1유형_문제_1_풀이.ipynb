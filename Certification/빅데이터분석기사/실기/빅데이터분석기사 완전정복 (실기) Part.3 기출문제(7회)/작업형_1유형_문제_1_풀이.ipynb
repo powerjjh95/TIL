{
  "nbformat": 4,
  "nbformat_minor": 0,
  "metadata": {
    "colab": {
      "provenance": []
    },
    "kernelspec": {
      "name": "python3",
      "display_name": "Python 3"
    },
    "language_info": {
      "name": "python"
    }
  },
  "cells": [
    {
      "cell_type": "markdown",
      "source": [
        "1. 작업형 제1유형"
      ],
      "metadata": {
        "id": "GPftsrtjCXys"
      }
    },
    {
      "cell_type": "markdown",
      "source": [
        "01 주어진 데이터 세트는 학생들의 과목별 점수 데이터다. 수강과목은\n",
        "통계(Statistics), 데이터사이언스(Data Science), 머신러닝(Machine Learning), 교양영어(English Literature)이다. 학생들은 이 중 3과목을 선택하여 들었으며 이에 대한 점수를 받았다. 가장 많은 학생이 들었던 과목을 구하고 결측치를 제거한 후, 해당 과목의 점수를 표준화하여 가장 높은 점수를 소수 둘째 자리로 반올림하여 구하시오."
      ],
      "metadata": {
        "id": "HmDg5ikPCegc"
      }
    },
    {
      "cell_type": "code",
      "source": [
        "# 데이터 불러오기\n",
        "import pandas as pd\n",
        "\n",
        "file = '/content/07.01.01-students_scores.csv'\n",
        "\n",
        "df = pd.read_csv(file)\n",
        "# print(df.head(5))\n",
        "\n",
        "# 데이터 정보 확인하기\n",
        "# df.info()\n",
        "\n",
        "# 수치형 데이터 기술통계 확인하기\n",
        "# print(df.describe())\n",
        "\n",
        "# 문제에 따라서 가장 많이 들은 과목을 추출해서 결측치 제거하겠다.\n",
        "# 가장 많이 들은 과목을 추출하기 위해서 idxmax()-(최대값 인덱스 반환하는 함수)\n",
        "# 을 사용한다. dropna()를 사용하여 결측치를 저거한 후 반환되는 시리즈 객체는 별도의\n",
        "# 변수에 할당한다.\n",
        "\n",
        "# 과목별 수강 카운트 하기\n",
        "# student_id 컬럼을 제외한 df1 생성\n",
        "df1 = df[['Statistics', 'DataScience', 'MachineLearning', 'EnglishLiterature']]\n",
        "\n",
        "subject_counts = df1.count()\n",
        "# print(subject_counts)\n",
        "\n",
        "# 가장 많이 들은 과목이름 뽑아오기\n",
        "most_popular_subject = subject_counts.idxmax()\n",
        "# print(most_popular_subject) # Statistics(통계) 과목을 가장 많이 수강함\n",
        "\n",
        "# 결측치 제거하기\n",
        "mps_df = df1[most_popular_subject].dropna()\n",
        "# print(mps_df.info())\n",
        "# print(mps_df)\n",
        "\n",
        "# 가장 많이 들은 과목의 점수를 평균이 0이고 분산이 1인 표준 정규 분포로\n",
        "# 표준화 변환한다. scipy.stats 패키지를 활용한다.\n",
        "# 물론 싸이킷런(sklearn)을 사용하거나 혹은 직접 계산을 할 수 있다.\n",
        "\n",
        "# 과목점수 표준화\n",
        "# 1.scipy.stats 패키지를 활용\n",
        "# import scipy.stats as stats\n",
        "# mps_score = stats.zscore(mps_df)\n",
        "# print(mps_score)\n",
        "\n",
        "# 과목점수 표준화\n",
        "# 2. sklearn 활용\n",
        "# from sklearn.preprocessing import StandardScaler\n",
        "# scaler = StandardScaler()\n",
        "# scaler.fit(mps_df.values.reshape(-1, 1))\n",
        "\n",
        "# mps_score = scaler.transform(mps_df.values.reshape(-1,1))\n",
        "# print(mps_score[:5])\n",
        "\n",
        "# 과목점수 표준화\n",
        "# 3. 계산하기((x-mean(x))/std(x))\n",
        "mps_score = (mps_df - mps_df.mean()) / mps_df.std()\n",
        "# print(mps_score[:5])\n",
        "\n",
        "# 표준화 점수 중 최댓값을 확인하여 제출한다.\n",
        "# 표준화 점수 중 최댓값 출력하기\n",
        "result = round(max(mps_score), 2)\n",
        "print(result)\n",
        "\n",
        "\n",
        "\n"
      ],
      "metadata": {
        "colab": {
          "base_uri": "https://localhost:8080/"
        },
        "id": "Qvp4MZNcCxIP",
        "outputId": "3dfd34df-73c7-479f-eeb0-0151144dcf6d"
      },
      "execution_count": 28,
      "outputs": [
        {
          "output_type": "stream",
          "name": "stdout",
          "text": [
            "1.74\n"
          ]
        }
      ]
    },
    {
      "cell_type": "code",
      "source": [],
      "metadata": {
        "id": "2LK0J6_JEJgM"
      },
      "execution_count": null,
      "outputs": []
    }
  ]
}