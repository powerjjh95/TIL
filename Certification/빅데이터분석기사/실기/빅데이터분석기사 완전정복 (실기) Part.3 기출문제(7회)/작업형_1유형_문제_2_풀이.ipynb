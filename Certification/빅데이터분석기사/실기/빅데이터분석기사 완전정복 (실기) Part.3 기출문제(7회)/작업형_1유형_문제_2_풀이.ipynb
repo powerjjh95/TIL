{
  "nbformat": 4,
  "nbformat_minor": 0,
  "metadata": {
    "colab": {
      "provenance": []
    },
    "kernelspec": {
      "name": "python3",
      "display_name": "Python 3"
    },
    "language_info": {
      "name": "python"
    }
  },
  "cells": [
    {
      "cell_type": "markdown",
      "source": [
        "1.작업형 제1유형"
      ],
      "metadata": {
        "id": "ZOQ3qoGubgyI"
      }
    },
    {
      "cell_type": "markdown",
      "source": [
        "02 주어진 데이터 세트는 물고기 데이터로 무게(Weight), 길이(Length), 높이(Height),  폭(Width)으로 구성되어 있다.\n",
        "종속변수는 무게이며 나머지는 독립변수이다. 종속변수와 가장 높은 상관관계를 보이는 변수를 찾으시오."
      ],
      "metadata": {
        "id": "5piQ7Ndybk_d"
      }
    },
    {
      "cell_type": "code",
      "source": [
        "# 상관계수(Correlation Coefficient) : 두 변수 사이의 연관성을 수치로 나타낸 상관계수를 활용하여\n",
        "# 변수 사이의 관계를 확인하는 방법이다. 상관계수는 -1 ~ 1의 범위를 갖고, 1에 가까울수록 강한 양의\n",
        "# 상관관계를, -1에 가까울수록 강한 음의 상관관계를 가지면, 0에 가까울수록 상관관계가 없음을 의미한다.\n",
        "\n",
        "# 데이터 불러오기\n",
        "import pandas as pd\n",
        "\n",
        "file = '/content/07.01.02-fish_weight_data.csv'\n",
        "df = pd.read_csv(file)\n",
        "# print(df.head())\n",
        "\n",
        "# 데이터 정보 확인하기\n",
        "# print(df.info())    # 결측치는 존재하지 않는다. 행의 개수는 100개이고 컬럼은 6개\n",
        "\n",
        "# 기술통계 확인하기\n",
        "# print(df.describe())  # id 컬럼은 상관관계에 전혀 의미가 없는 값이므로 무시한다.\n",
        "\n",
        "# 상관계수를 구해보자. 상관계수는 변수 간의 상관관계를 나타낸다. id는 식별자이므로 제거한 후\n",
        "# 데이터프레임의 상관계수를 구하는 함수 corr()을 이용하여 상관계수를 구할 수 있다.\n",
        "\n",
        "# id 변수 제거하기\n",
        "df1 = df.copy()\n",
        "# print(df1)\n",
        "df1 = df1.drop('id', axis = 1)\n",
        "# print(df1)\n",
        "\n",
        "# 상관계수 구하기\n",
        "corr_matrix = df1.corr()\n",
        "# print(type(corr_matrix), '\\\\')\n",
        "# print(corr_matrix)\n",
        "\n",
        "# 문제는 종속변수 무게(Weight)와 높은 상관관계를 보이는 독립변수를 찾는 것이다.\n",
        "# 아래와 같이 얻은 데이터에서 무게(Weight) 기준의 데이터만 별도로 분리하여 가장 높은 상관관계를 보이는\n",
        "# 변수를 idxmax()를 이용해서 찾아내도록 하자.\n",
        "\n",
        "# Weight를 중심으로 상관관계 데이터 가져오기\n",
        "corr_weight = corr_matrix['Weight'].drop('Weight')\n",
        "# print(corr_weight)\n",
        "\n",
        "# 가장 높은 상관관계를 보이는 변수 찾기\n",
        "result = corr_weight.idxmax()\n",
        "# 최종 결괏값만 print되도록 해야 한다.\n",
        "print(result)\n",
        "\n",
        "\n",
        "\n",
        "\n",
        "\n",
        "\n",
        "\n"
      ],
      "metadata": {
        "colab": {
          "base_uri": "https://localhost:8080/"
        },
        "id": "NMv5eh4absKH",
        "outputId": "7dfeb282-0e9f-4a0b-dc86-023880a65ded"
      },
      "execution_count": 10,
      "outputs": [
        {
          "output_type": "stream",
          "name": "stdout",
          "text": [
            "Length\n"
          ]
        }
      ]
    }
  ]
}