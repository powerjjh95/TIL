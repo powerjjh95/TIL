{
  "nbformat": 4,
  "nbformat_minor": 0,
  "metadata": {
    "colab": {
      "provenance": []
    },
    "kernelspec": {
      "name": "python3",
      "display_name": "Python 3"
    },
    "language_info": {
      "name": "python"
    }
  },
  "cells": [
    {
      "cell_type": "code",
      "execution_count": 18,
      "metadata": {
        "colab": {
          "base_uri": "https://localhost:8080/"
        },
        "id": "u_clRwkLK1l-",
        "outputId": "01ad00dc-fcf4-42ca-9882-65d21cc93d8d"
      },
      "outputs": [
        {
          "output_type": "stream",
          "name": "stdout",
          "text": [
            "배열의 사분위수 1사분위수 :  12.0\n",
            "배열의 사분위수 2사분위수 :  18.5\n",
            "배열의 사분위수 3사분위수 :  19.75\n"
          ]
        }
      ],
      "source": [
        "# numpy는 매우 다양한 기술 통계 연산을 지원한다. 그 중 가장 많이 사용되면서도 간단한 기술통계량\n",
        "# 계산 방법을 알아본다.\n",
        "# 배열 데이터 개수 계산 : 리스트, 튜플, 문자열과 마찬가지로 len함수를 이용하면 배열의 구성하는 원소의\n",
        "# 개수를 구할 수 있다\n",
        "import numpy as np\n",
        "x = np.array([18, 5, 10, 23, 19, 20])\n",
        "# print(\"배열 원소의 개수 : \", len(x))\n",
        "\n",
        "# # 평균, 분산, 표준편차 계산\n",
        "# print(\"배열의 평균 : \", np.mean(x))\n",
        "# print(\"배열의 분산 : \", np.var(x))\n",
        "# print(\"배열의 표준편차 : \", np.std(x))\n",
        "# print(\"\\n\")\n",
        "\n",
        "# # 최댓값, 최솟값, 중앙값 계산\n",
        "# print(\"배열의 최댓값 : \", np.max(x))\n",
        "# print(\"배열의 최솟값 : \", np.min(x))\n",
        "# y = np.sort(x)\n",
        "# print(\"배열의 정렬 후 값 출력 : \", y)\n",
        "# print(\"배열의 중앙값 : \", np.median(y))\n",
        "# print(\"\\n\")\n",
        "\n",
        "# # 사분위수 : 배열의 기초통계량에 해당하는 사분위수를 쉽게 계산할 수 있다.\n",
        "# print(\"배열의 사분위수 1사분위수 : \", np.percentile(x, 25))\n",
        "# print(\"배열의 사분위수 2사분위수 : \", np.percentile(x, 50))\n",
        "# print(\"배열의 사분위수 3사분위수 : \", np.percentile(x, 75))"
      ]
    }
  ]
}