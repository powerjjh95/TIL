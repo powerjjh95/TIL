{
  "nbformat": 4,
  "nbformat_minor": 0,
  "metadata": {
    "colab": {
      "provenance": []
    },
    "kernelspec": {
      "name": "python3",
      "display_name": "Python 3"
    },
    "language_info": {
      "name": "python"
    }
  },
  "cells": [
    {
      "cell_type": "code",
      "execution_count": 4,
      "metadata": {
        "colab": {
          "base_uri": "https://localhost:8080/"
        },
        "id": "c4q52mazSx8L",
        "outputId": "64e48544-6cb1-4a31-8372-4fdd14e887b0"
      },
      "outputs": [
        {
          "output_type": "stream",
          "name": "stdout",
          "text": [
            "array1 : \n",
            " [[1 2]\n",
            " [4 5]]\n",
            "transpose_arrapy : \n",
            " [[1 4]\n",
            " [2 5]]\n"
          ]
        }
      ],
      "source": [
        "# numpy 선형대수 기본 연산\n",
        "# 가장 많이 사용되면서도 기본 연산인 행렬 내적(행렬 곱)과 전치 행렬\n",
        "# 행렬 내적(행렬 곱)\n",
        "import numpy as np\n",
        "\n",
        "# array1 = np.array([[1,2,3],[4,5,6]])\n",
        "# array2 = np.array([[7,8],[9,10],[11,12]])\n",
        "\n",
        "# dot_array = np.dot(array1, array2)\n",
        "# print(dot_array)\n",
        "\n",
        "# 전치 행렬 : 원 행렬에서 행과 열 위치를 교환한 원소로 구성한 행렬을 전치 행렬이라고 한다.\n",
        "# 2 * 2 행렬이 있을 경우, 1행 2열의 원소를 2행 1열의 원소와 교환하고, 2행 1열의 원소를\n",
        "# 1행 2열 원소로 교환했을 때의 결과를 의미한다.\n",
        "array1 = np.array([[1,2],[4,5]])\n",
        "print('array1 : \\n', array1)\n",
        "transpose_arrapy = np.transpose(array1)\n",
        "print('transpose_arrapy : \\n', transpose_arrapy)\n",
        "\n"
      ]
    }
  ]
}