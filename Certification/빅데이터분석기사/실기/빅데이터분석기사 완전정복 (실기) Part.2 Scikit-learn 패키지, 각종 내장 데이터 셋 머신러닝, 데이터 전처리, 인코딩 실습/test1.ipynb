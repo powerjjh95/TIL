{
  "nbformat": 4,
  "nbformat_minor": 0,
  "metadata": {
    "colab": {
      "provenance": []
    },
    "kernelspec": {
      "name": "python3",
      "display_name": "Python 3"
    },
    "language_info": {
      "name": "python"
    }
  },
  "cells": [
    {
      "cell_type": "code",
      "execution_count": 1,
      "metadata": {
        "colab": {
          "base_uri": "https://localhost:8080/"
        },
        "id": "2tCvyfB3ZbOW",
        "outputId": "9a135736-82ad-4dc8-a114-e8b58ca73ac2"
      },
      "outputs": [
        {
          "output_type": "stream",
          "name": "stdout",
          "text": [
            "<class 'int'>\n",
            "30\n"
          ]
        }
      ],
      "source": [
        "test = 10 + 20\n",
        "print(type(test))\n",
        "print(test)"
      ]
    }
  ]
}