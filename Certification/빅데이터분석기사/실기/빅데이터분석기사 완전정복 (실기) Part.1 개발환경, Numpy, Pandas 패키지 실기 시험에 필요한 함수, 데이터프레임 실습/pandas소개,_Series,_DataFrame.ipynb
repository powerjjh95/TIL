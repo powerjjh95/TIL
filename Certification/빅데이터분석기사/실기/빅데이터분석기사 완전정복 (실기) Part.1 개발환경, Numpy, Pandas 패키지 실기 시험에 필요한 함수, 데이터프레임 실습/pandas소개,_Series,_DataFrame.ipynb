{
  "nbformat": 4,
  "nbformat_minor": 0,
  "metadata": {
    "colab": {
      "provenance": []
    },
    "kernelspec": {
      "name": "python3",
      "display_name": "Python 3"
    },
    "language_info": {
      "name": "python"
    }
  },
  "cells": [
    {
      "cell_type": "code",
      "execution_count": 10,
      "metadata": {
        "colab": {
          "base_uri": "https://localhost:8080/"
        },
        "id": "v0YoFWAbSlk8",
        "outputId": "3c4c21f8-e3d5-42dc-bea3-a27cabc3025c"
      },
      "outputs": [
        {
          "output_type": "stream",
          "name": "stdout",
          "text": [
            "    번호   이름   점수\n",
            "0  100  신은혁  9.7\n",
            "1  101  이혜숙  8.9\n",
            "2  102  신동욱  9.3\n",
            "3  103  김숙자  5.5\n"
          ]
        }
      ],
      "source": [
        "# pandas는 파이썬에서 데이터 처리를 위해 존재하는 가장 인기가 있고 핵심적인 라이브러리이다.\n",
        "# 일반적으로 대부분의 데이터 셋은 2차원 데이터이다.\n",
        "# pandas는 행과 열로 이루어진 2차원 데이터를 효율적으로 가공 및 처리할 수 있는 다양하고 훌륭한 기능을 제공한다.\n",
        "# pandas의 핵심 객체는 데이터프레임이다.\n",
        "# 데이터프레임을 이해하기 전에 먼저 인덱스와 시리즈를 이해하는 것이 중요하다.\n",
        "# 시리즈와 데이터프레임의 가장 큰 차이는 시리즈는 컬럼이 하나 뿐인 것이고, 데이터프레임은 컬럼이 여러 개인 데이터 구조체라는 점이다.\n",
        "# 따라서 데이터프레임은 여러 개의 시리즈로 이루어졌다고 할 수 있다.\n",
        "\n",
        "# 시리즈(Series)와 데이터프레임(DataFrame)\n",
        "import pandas as pd\n",
        "\n",
        "# s = pd.Series([1, 3, 5, 6, 8])\n",
        "# print(s)\n",
        "# print(s.index)  # 시리즈의 인덱스 현황\n",
        "# print(s.values) # 시리즈의 값만 출력\n",
        "# print(type(s))\n",
        "\n",
        "# v = [[1,2,3],[4,5,6],[7,8,9]]\n",
        "# i = ['첫째행', '둘째행', '셋째행']\n",
        "# c = ['컬럼1', '컬럼2', '컬럼3']\n",
        "\n",
        "# df = pd.DataFrame(v, index=i, columns=c)\n",
        "# print(df)\n",
        "\n",
        "# 데이터프레임은 리스트와 딕셔너리를 이용해서 생성하기\n",
        "# 리스트로 생성\n",
        "# d = [['100', '신은혁', 9.7],\n",
        "#      ['101', '이혜숙', 8.9],\n",
        "#      ['102', '신동욱', 9.3],\n",
        "#      ['103', '김숙자', 5.5]\n",
        "#     ]\n",
        "# df = pd.DataFrame(d, columns=['번호', '이름', '점수'])\n",
        "# print(df)\n",
        "# 딕셔너리로 생성\n",
        "# d = {\n",
        "#     '번호' : ['100', '101', '102', '103'],\n",
        "#     '이름' : ['신은혁', '이혜숙', '신동욱', '김숙자'],\n",
        "#     '점수' : [9.7, 8.9, 9.3, 5.5]\n",
        "# }\n",
        "# df = pd.DataFrame(d)\n",
        "# print(df)"
      ]
    }
  ]
}